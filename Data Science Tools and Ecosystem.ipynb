{
 "cells": [
  {
   "cell_type": "markdown",
   "metadata": {},
   "source": [
    "<center>\n",
    "    <img src=\"https://cf-courses-data.s3.us.cloud-object-storage.appdomain.cloud/IBMDeveloperSkillsNetwork-DS0105EN-SkillsNetwork/labs/Module2/images/SN_web_lightmode.png\" width=\"300\" alt=\"cognitiveclass.ai logo\">\n",
    "</center>\n"
   ]
  },
  {
   "cell_type": "markdown",
   "metadata": {},
   "source": [
    "#### Add your code below following the instructions given in the course\n"
   ]
  },
  {
   "cell_type": "code",
   "execution_count": null,
   "metadata": {},
   "outputs": [],
   "source": [
    "# Data Science Tools and Ecosystem"
   ]
  },
  {
   "cell_type": "code",
   "execution_count": null,
   "metadata": {},
   "outputs": [],
   "source": [
    "## Introduction\n",
    "In this notebook, Data Science Tools and Ecosystem are summarized. This notebook provides an overview of the essential tools, languages, and libraries used in data science, along with practical examples of arithmetic operations and data manipulation techniques commonly employed by data scientists."
   ]
  },
  {
   "cell_type": "code",
   "execution_count": null,
   "metadata": {},
   "outputs": [],
   "source": [
    "## Data Science Languages\n",
    "\n",
    "Some of the popular languages that Data Scientists use are:\n",
    "\n",
    "1. **Python** - Most popular language for data science due to its simplicity and extensive libraries\n",
    "2. **R** - Specialized statistical computing language with excellent visualization capabilities\n",
    "3. **SQL** - Essential for database querying and data manipulation\n",
    "4. **Julia** - High-performance language designed for numerical and scientific computing\n",
    "5. **Scala** - Used for big data processing with Apache Spark\n",
    "6. **Java** - Used for enterprise-level data processing applications"
   ]
  },
  {
   "cell_type": "code",
   "execution_count": null,
   "metadata": {},
   "outputs": [],
   "source": [
    "## Data Science Libraries\n",
    "\n",
    "Some of the commonly used libraries used by Data Scientists include:\n",
    "\n",
    "1. **Pandas** - Data manipulation and analysis library for Python\n",
    "2. **NumPy** - Fundamental package for scientific computing with Python\n",
    "3. **Matplotlib** - Comprehensive library for creating static, animated, and interactive visualizations\n",
    "4. **Seaborn** - Statistical data visualization library based on matplotlib\n",
    "5. **Scikit-learn** - Machine learning library for Python\n",
    "6. **TensorFlow** - Open-source platform for machine learning and artificial intelligence\n",
    "7. **PyTorch** - Open-source machine learning framework\n",
    "8. **SciPy** - Library for scientific and technical computing\n",
    "9. **Plotly** - Interactive graphing library for Python"
   ]
  },
  {
   "cell_type": "code",
   "execution_count": null,
   "metadata": {},
   "outputs": [],
   "source": [
    "## Data Science Tools\n",
    "\n",
    "| Tool | Category | Description |\n",
    "|------|----------|-------------|\n",
    "| Jupyter Notebook | Development Environment | Interactive computing environment for data science |\n",
    "| RStudio | IDE | Integrated development environment for R |\n",
    "| Apache Spark | Big Data Processing | Unified analytics engine for large-scale data processing |\n",
    "| Hadoop | Big Data Storage | Framework for distributed storage and processing |\n",
    "| Tableau | Data Visualization | Business intelligence and data visualization tool |\n",
    "| Power BI | Data Visualization | Business analytics service by Microsoft |\n",
    "| Git | Version Control | Distributed version control system |\n",
    "| Docker | Containerization | Platform for developing, shipping, and running applications |\n",
    "| MySQL | Database | Open-source relational database management system |\n",
    "| MongoDB | Database | NoSQL document database |\n",
    "| AWS | Cloud Platform | Amazon Web Services cloud computing platform |\n",
    "| Google Cloud | Cloud Platform | Google's suite of cloud computing services |"
   ]
  },
  {
   "cell_type": "code",
   "execution_count": null,
   "metadata": {},
   "outputs": [],
   "source": [
    "## Arithmetic Expression Examples\n",
    "\n",
    "Below are a few examples of evaluating arithmetic expressions in Python. These examples demonstrate basic mathematical operations that are commonly used in data science for calculations, data transformations, and statistical analysis."
   ]
  },
  {
   "cell_type": "code",
   "execution_count": null,
   "metadata": {},
   "outputs": [],
   "source": [
    "# This is a simple arithmetic expression to multiply then add integers\n",
    "result = (3 * 4) + 5\n",
    "print(f\"The result of (3 * 4) + 5 is: {result}\")"
   ]
  },
  {
   "cell_type": "code",
   "execution_count": null,
   "metadata": {},
   "outputs": [],
   "source": [
    "# This will convert 200 minutes to hours by dividing by 60\n",
    "minutes = 200\n",
    "hours = minutes / 60\n",
    "print(f\"{minutes} minutes is equal to {hours:.2f} hours\")"
   ]
  },
  {
   "cell_type": "code",
   "execution_count": null,
   "metadata": {},
   "outputs": [],
   "source": [
    "## Objectives\n",
    "\n",
    "The objectives of this notebook are:\n",
    "\n",
    "1. **Understand Data Science Ecosystem** - Gain knowledge about the tools, languages, and libraries used in data science\n",
    "2. **Learn Practical Applications** - Explore how arithmetic operations are used in data science calculations\n",
    "3. **Compare Different Tools** - Evaluate various data science tools and their specific use cases\n",
    "4. **Develop Technical Skills** - Practice using Jupyter notebooks and Python for data science tasks\n",
    "5. **Build Foundation** - Establish a solid understanding of the data science landscape and available resources"
   ]
  },
  {
   "cell_type": "code",
   "execution_count": null,
   "metadata": {},
   "outputs": [],
   "source": [
    "## Author\n",
    "\n",
    "Tolga Acan\n",
    "Data Science Student  \n",
    "Course: Introduction to Data Science  \n",
    "Date: 10/19/2025"
   ]
  }
 ],
 "metadata": {
  "kernelspec": {
   "display_name": "Python 3 (ipykernel)",
   "language": "python",
   "name": "python3"
  },
  "language_info": {
   "codemirror_mode": {
    "name": "ipython",
    "version": 3
   },
   "file_extension": ".py",
   "mimetype": "text/x-python",
   "name": "python",
   "nbconvert_exporter": "python",
   "pygments_lexer": "ipython3",
   "version": "3.12.8"
  }
 },
 "nbformat": 4,
 "nbformat_minor": 4
}
